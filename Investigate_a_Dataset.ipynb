{
 "cells": [
  {
   "cell_type": "markdown",
   "metadata": {},
   "source": [
    "\n",
    "# Project: Investigate TMDb movie dataset \n",
    "\n",
    "\n",
    "## Table of Contents\n",
    "<ul>\n",
    "<li><a href=\"#intro\">Introduction</a></li>\n",
    "<li><a href=\"#wrangling\">Data Wrangling</a></li>\n",
    "<li><a href=\"#eda\">Exploratory Data Analysis</a></li>\n",
    "<li><a href=\"#conclusions\">Conclusions</a></li>\n",
    "</ul>"
   ]
  },
  {
   "cell_type": "markdown",
   "metadata": {},
   "source": [
    "<a id='intro'></a>\n",
    "## Introduction\n",
    "The Movie Database (TMDb) is a community built movie and TV database.This data set contains information about 10,000 movies collected from The Movie Database (TMDb). it includes 10866 rows and 21 columns.Thorugh TMDb dataset investigation different packages are used (pandas, numpy, matplotlib).Through this dataset, Certain columns, like ‘cast’ and ‘genres’, contain multiple\n",
    "values separated by pipe (|) characters. There are some odd characters in the ‘cast’ column. Don’t worry about cleaning them. You can leave them as is. The final two columns ending with “_adj” show the budget and revenue of the associated movie in terms of 2010 dollars, accounting for inflation over time.\n",
    "\n",
    "Before the analysis of the dataset, data wrangling phase has been conducted to clean the data from unimportant columns, noisy data, and other problems. Before data wrangling phase, general properities about the dataset has been addressed.\n",
    "\n",
    "### Analysis of the DataSet (questions that is analyized in the dataset):\n",
    ">1- Information about runtime of the movies \n",
    ">\n",
    ">2- Information about the poulairty and vote average of the movies  \n",
    ">\n",
    ">3- Count each genres of movies in the dataset\n",
    ">\n",
    ">4- Mean profit for each genere\n",
    ">\n",
    ">5- Number of movie releases per year\n",
    ">\n",
    ">6- Mean profit for  each release year\n",
    ">\n",
    ">7- Total profit for each release year\n",
    ">\n",
    ">8- Relationship between revenue and profit\n",
    ">\n",
    ">9- Relationship between popularity and vote_count\n",
    ">\n",
    ">10- Correlation between budget, revenue, and profit"
   ]
  },
  {
   "cell_type": "code",
   "execution_count": 52,
   "metadata": {},
   "outputs": [],
   "source": [
    "# import packages to use\n",
    "import pandas as pd\n",
    "import numpy as np\n",
    "import matplotlib.pyplot as plt\n",
    "import seaborn as sn\n",
    "\n",
    "%matplotlib inline"
   ]
  },
  {
   "cell_type": "markdown",
   "metadata": {},
   "source": [
    "<a id='wrangling'></a>\n",
    "## Data Wrangling\n",
    "\n",
    "> **Tip**: In this section of the report, you will load in the data, check for cleanliness, and then trim and clean your dataset for analysis. Make sure that you document your steps carefully and justify your cleaning decisions. We will start with addressing General properities about the dataset.\n",
    "\n",
    "### General Properties"
   ]
  },
  {
   "cell_type": "code",
   "execution_count": 53,
   "metadata": {},
   "outputs": [
    {
     "name": "stdout",
     "output_type": "stream",
     "text": [
      "Dimensions of DF:  (10866, 21)\n",
      "\n",
      "Information about DF: \n",
      "<class 'pandas.core.frame.DataFrame'>\n",
      "RangeIndex: 10866 entries, 0 to 10865\n",
      "Data columns (total 21 columns):\n",
      " #   Column                Non-Null Count  Dtype  \n",
      "---  ------                --------------  -----  \n",
      " 0   id                    10866 non-null  int64  \n",
      " 1   imdb_id               10856 non-null  object \n",
      " 2   popularity            10866 non-null  float64\n",
      " 3   budget                10866 non-null  int64  \n",
      " 4   revenue               10866 non-null  int64  \n",
      " 5   original_title        10866 non-null  object \n",
      " 6   cast                  10790 non-null  object \n",
      " 7   homepage              2936 non-null   object \n",
      " 8   director              10822 non-null  object \n",
      " 9   tagline               8042 non-null   object \n",
      " 10  keywords              9373 non-null   object \n",
      " 11  overview              10862 non-null  object \n",
      " 12  runtime               10866 non-null  int64  \n",
      " 13  genres                10843 non-null  object \n",
      " 14  production_companies  9836 non-null   object \n",
      " 15  release_date          10866 non-null  object \n",
      " 16  vote_count            10866 non-null  int64  \n",
      " 17  vote_average          10866 non-null  float64\n",
      " 18  release_year          10866 non-null  int64  \n",
      " 19  budget_adj            10866 non-null  float64\n",
      " 20  revenue_adj           10866 non-null  float64\n",
      "dtypes: float64(4), int64(6), object(11)\n",
      "memory usage: 1.7+ MB\n",
      "None\n",
      "\n",
      "Head of DF: \n",
      "        id    imdb_id  popularity     budget     revenue  \\\n",
      "0  135397  tt0369610   32.985763  150000000  1513528810   \n",
      "1   76341  tt1392190   28.419936  150000000   378436354   \n",
      "2  262500  tt2908446   13.112507  110000000   295238201   \n",
      "3  140607  tt2488496   11.173104  200000000  2068178225   \n",
      "4  168259  tt2820852    9.335014  190000000  1506249360   \n",
      "\n",
      "                 original_title  \\\n",
      "0                Jurassic World   \n",
      "1            Mad Max: Fury Road   \n",
      "2                     Insurgent   \n",
      "3  Star Wars: The Force Awakens   \n",
      "4                     Furious 7   \n",
      "\n",
      "                                                cast  \\\n",
      "0  Chris Pratt|Bryce Dallas Howard|Irrfan Khan|Vi...   \n",
      "1  Tom Hardy|Charlize Theron|Hugh Keays-Byrne|Nic...   \n",
      "2  Shailene Woodley|Theo James|Kate Winslet|Ansel...   \n",
      "3  Harrison Ford|Mark Hamill|Carrie Fisher|Adam D...   \n",
      "4  Vin Diesel|Paul Walker|Jason Statham|Michelle ...   \n",
      "\n",
      "                                            homepage          director  \\\n",
      "0                      http://www.jurassicworld.com/   Colin Trevorrow   \n",
      "1                        http://www.madmaxmovie.com/     George Miller   \n",
      "2     http://www.thedivergentseries.movie/#insurgent  Robert Schwentke   \n",
      "3  http://www.starwars.com/films/star-wars-episod...       J.J. Abrams   \n",
      "4                           http://www.furious7.com/         James Wan   \n",
      "\n",
      "                         tagline  ...  \\\n",
      "0              The park is open.  ...   \n",
      "1             What a Lovely Day.  ...   \n",
      "2     One Choice Can Destroy You  ...   \n",
      "3  Every generation has a story.  ...   \n",
      "4            Vengeance Hits Home  ...   \n",
      "\n",
      "                                            overview runtime  \\\n",
      "0  Twenty-two years after the events of Jurassic ...     124   \n",
      "1  An apocalyptic story set in the furthest reach...     120   \n",
      "2  Beatrice Prior must confront her inner demons ...     119   \n",
      "3  Thirty years after defeating the Galactic Empi...     136   \n",
      "4  Deckard Shaw seeks revenge against Dominic Tor...     137   \n",
      "\n",
      "                                      genres  \\\n",
      "0  Action|Adventure|Science Fiction|Thriller   \n",
      "1  Action|Adventure|Science Fiction|Thriller   \n",
      "2         Adventure|Science Fiction|Thriller   \n",
      "3   Action|Adventure|Science Fiction|Fantasy   \n",
      "4                      Action|Crime|Thriller   \n",
      "\n",
      "                                production_companies release_date vote_count  \\\n",
      "0  Universal Studios|Amblin Entertainment|Legenda...       6/9/15       5562   \n",
      "1  Village Roadshow Pictures|Kennedy Miller Produ...      5/13/15       6185   \n",
      "2  Summit Entertainment|Mandeville Films|Red Wago...      3/18/15       2480   \n",
      "3          Lucasfilm|Truenorth Productions|Bad Robot     12/15/15       5292   \n",
      "4  Universal Pictures|Original Film|Media Rights ...       4/1/15       2947   \n",
      "\n",
      "   vote_average  release_year    budget_adj   revenue_adj  \n",
      "0           6.5          2015  1.379999e+08  1.392446e+09  \n",
      "1           7.1          2015  1.379999e+08  3.481613e+08  \n",
      "2           6.3          2015  1.012000e+08  2.716190e+08  \n",
      "3           7.5          2015  1.839999e+08  1.902723e+09  \n",
      "4           7.3          2015  1.747999e+08  1.385749e+09  \n",
      "\n",
      "[5 rows x 21 columns]\n"
     ]
    }
   ],
   "source": [
    "# Load csv file named tmdb-movies.csv' into data frame DF\n",
    "df = pd.read_csv('tmdb-movies.csv')\n",
    "\n",
    "# dimensions of DF\n",
    "print(\"Dimensions of DF: \", df.shape)\n",
    "\n",
    "# print Information of DF\n",
    "print(\"\\nInformation about DF: \")\n",
    "print(df.info())\n",
    "\n",
    "# First fifth rows of DF\n",
    "print(\"\\nHead of DF: \\n\", df.head(5))"
   ]
  },
  {
   "cell_type": "markdown",
   "metadata": {},
   "source": [
    "### Data Cleaning\n",
    "Data cleaning is the process of fixing or removing incorrect, duplicate,noisy, or incomplete data within a dataset. \n",
    "Thorugh data cleaning phase, data wrangling has been conducted for modifying the data into a more usable form.\n",
    "\n",
    "#### Problems With the dataset\n",
    ">**1**: Remove unused Columns imdb_id (there is id column for each movie), budget_adj, revenue_adj (the last two columns show the budget and revenue of the associated movie in terms of 2010 dollars, accounting for inflation over time.)\n",
    ">\n",
    ">**2**: Remove duplication in the rows (check and process if  exist)\n",
    ">\n",
    ">**3**: Remove rows contains noisy data (Some movies has 'zero' budget or revenue. So, we need to discard it)\n",
    ">\n",
    ">**4**: Check NN values and modify it with a value (zero or mean or median or stay as it is according to the data)\n",
    ">\n",
    ">**5**: Modify the datatype of relase_date column to the correct datatype (from string into date)\n"
   ]
  },
  {
   "cell_type": "markdown",
   "metadata": {},
   "source": [
    "###### 1- Remove unused Columns which are imdb_id, budget_adj and, revenue_adj\n",
    "Three columns has been deleted from the DF. First one is 'imdb_id'as there is id column for each movie. The second and Third columns are 'budget_adj' and 'revenue_adj' as the columns show the budget and revenue of the associated movie in terms of 2010 dollars, accounting for inflation over time."
   ]
  },
  {
   "cell_type": "code",
   "execution_count": 54,
   "metadata": {},
   "outputs": [
    {
     "name": "stdout",
     "output_type": "stream",
     "text": [
      "['id', 'popularity', 'budget', 'revenue', 'original_title', 'cast', 'homepage', 'director', 'tagline', 'keywords', 'overview', 'runtime', 'genres', 'production_companies', 'release_date', 'vote_count', 'vote_average', 'release_year']\n"
     ]
    }
   ],
   "source": [
    "# drop Columns ()\n",
    "df.drop(['imdb_id', 'budget_adj', 'revenue_adj'], axis=1, inplace=True)\n",
    "\n",
    "#print Columns after removing the three columns\n",
    "print(df.columns.tolist())"
   ]
  },
  {
   "cell_type": "markdown",
   "metadata": {},
   "source": [
    "###### 2- Remove duplication in the rows (check and process if exist)"
   ]
  },
  {
   "cell_type": "code",
   "execution_count": 55,
   "metadata": {},
   "outputs": [
    {
     "name": "stdout",
     "output_type": "stream",
     "text": [
      "Current Number of rows 10866\n",
      "Number of Duplicated rows:  1\n",
      "New Number of rows after Removing duplication 10865\n"
     ]
    }
   ],
   "source": [
    "# Number of rows (in advance)\n",
    "print(\"Current Number of rows\", df.shape[0])\n",
    "# check Rows Duplication\n",
    "duplicated_rows = sum(df.duplicated())\n",
    "print(\"Number of Duplicated rows: \", duplicated_rows)\n",
    "if(duplicated_rows):\n",
    "    df.drop_duplicates(keep ='first', inplace=True)\n",
    "print(\"New Number of rows after Removing duplication\", df.shape[0])"
   ]
  },
  {
   "cell_type": "markdown",
   "metadata": {},
   "source": [
    "From the above check, there exist one row duplication. We apply remove duplication from the dataset.  "
   ]
  },
  {
   "cell_type": "markdown",
   "metadata": {},
   "source": [
    "###### 3- Remove rows contains noisy data (Some movies has 'zero' budget or revenue. So, we need to discard it)"
   ]
  },
  {
   "cell_type": "code",
   "execution_count": 56,
   "metadata": {},
   "outputs": [
    {
     "name": "stdout",
     "output_type": "stream",
     "text": [
      "Number of rows after removing noisy data:  3854\n"
     ]
    }
   ],
   "source": [
    "# drop rows where value of a 'budget' column is zero\n",
    "df.drop(df.index[df['budget'] == 0], inplace = True)\n",
    "\n",
    "# drop rows where value of a 'revenue' column is zero\n",
    "df.drop(df.index[df['revenue'] == 0], inplace = True)\n",
    "\n",
    "# Number of Rows after removing rows contains zero value in 'budget' and 'revenue' columns\n",
    "print(\"Number of rows after removing noisy data: \", df.shape[0])"
   ]
  },
  {
   "cell_type": "markdown",
   "metadata": {},
   "source": [
    "Number of Rows in the dataset after removing nosiy data are '3854'"
   ]
  },
  {
   "cell_type": "markdown",
   "metadata": {},
   "source": [
    "###### 4- Check NN values and modify it with a value (zero or mean or median or stay as it is according to the data)"
   ]
  },
  {
   "cell_type": "code",
   "execution_count": 57,
   "metadata": {},
   "outputs": [
    {
     "name": "stdout",
     "output_type": "stream",
     "text": [
      "<class 'pandas.core.frame.DataFrame'>\n",
      "Int64Index: 3854 entries, 0 to 10848\n",
      "Data columns (total 18 columns):\n",
      " #   Column                Non-Null Count  Dtype  \n",
      "---  ------                --------------  -----  \n",
      " 0   id                    3854 non-null   int64  \n",
      " 1   popularity            3854 non-null   float64\n",
      " 2   budget                3854 non-null   int64  \n",
      " 3   revenue               3854 non-null   int64  \n",
      " 4   original_title        3854 non-null   object \n",
      " 5   cast                  3850 non-null   object \n",
      " 6   homepage              1426 non-null   object \n",
      " 7   director              3853 non-null   object \n",
      " 8   tagline               3574 non-null   object \n",
      " 9   keywords              3716 non-null   object \n",
      " 10  overview              3854 non-null   object \n",
      " 11  runtime               3854 non-null   int64  \n",
      " 12  genres                3854 non-null   object \n",
      " 13  production_companies  3808 non-null   object \n",
      " 14  release_date          3854 non-null   object \n",
      " 15  vote_count            3854 non-null   int64  \n",
      " 16  vote_average          3854 non-null   float64\n",
      " 17  release_year          3854 non-null   int64  \n",
      "dtypes: float64(2), int64(6), object(10)\n",
      "memory usage: 572.1+ KB\n"
     ]
    }
   ],
   "source": [
    "# Display all information about columns on the dataset\n",
    "df.info()"
   ]
  },
  {
   "cell_type": "markdown",
   "metadata": {},
   "source": [
    "Using info function on DF, there exist 5 cloumns contains NN values which are:\n",
    "cast, home page, director, tagline, keywords, production_companies \n",
    "\n",
    "There is no need for Modifying NN to a value as all are data not filled and has no impact on our analysis (from my point of view). "
   ]
  },
  {
   "cell_type": "markdown",
   "metadata": {},
   "source": [
    "###### 5- Modify the datatype of 'relase_date' column to the correct datatype (from string into date)"
   ]
  },
  {
   "cell_type": "code",
   "execution_count": 58,
   "metadata": {},
   "outputs": [
    {
     "name": "stdout",
     "output_type": "stream",
     "text": [
      "<class 'pandas.core.frame.DataFrame'>\n",
      "Int64Index: 3854 entries, 0 to 10848\n",
      "Data columns (total 18 columns):\n",
      " #   Column                Non-Null Count  Dtype         \n",
      "---  ------                --------------  -----         \n",
      " 0   id                    3854 non-null   int64         \n",
      " 1   popularity            3854 non-null   float64       \n",
      " 2   budget                3854 non-null   int64         \n",
      " 3   revenue               3854 non-null   int64         \n",
      " 4   original_title        3854 non-null   object        \n",
      " 5   cast                  3850 non-null   object        \n",
      " 6   homepage              1426 non-null   object        \n",
      " 7   director              3853 non-null   object        \n",
      " 8   tagline               3574 non-null   object        \n",
      " 9   keywords              3716 non-null   object        \n",
      " 10  overview              3854 non-null   object        \n",
      " 11  runtime               3854 non-null   int64         \n",
      " 12  genres                3854 non-null   object        \n",
      " 13  production_companies  3808 non-null   object        \n",
      " 14  release_date          3854 non-null   datetime64[ns]\n",
      " 15  vote_count            3854 non-null   int64         \n",
      " 16  vote_average          3854 non-null   float64       \n",
      " 17  release_year          3854 non-null   int64         \n",
      "dtypes: datetime64[ns](1), float64(2), int64(6), object(9)\n",
      "memory usage: 572.1+ KB\n"
     ]
    }
   ],
   "source": [
    "# convert the 'release_date' column to datetime format\n",
    "df['release_date']= pd.to_datetime(df['release_date'])\n",
    " \n",
    "# Check the format of 'release_date' column\n",
    "df.info()"
   ]
  },
  {
   "cell_type": "markdown",
   "metadata": {},
   "source": [
    "<a id='eda'></a>\n",
    "## Exploratory Data Analysis\n",
    "\n"
   ]
  },
  {
   "cell_type": "markdown",
   "metadata": {},
   "source": [
    "#### There is a need for a profit coulumn to be used in EDA phase. (profit = revenue - budget)"
   ]
  },
  {
   "cell_type": "code",
   "execution_count": 59,
   "metadata": {},
   "outputs": [
    {
     "data": {
      "text/html": [
       "<div>\n",
       "<style scoped>\n",
       "    .dataframe tbody tr th:only-of-type {\n",
       "        vertical-align: middle;\n",
       "    }\n",
       "\n",
       "    .dataframe tbody tr th {\n",
       "        vertical-align: top;\n",
       "    }\n",
       "\n",
       "    .dataframe thead th {\n",
       "        text-align: right;\n",
       "    }\n",
       "</style>\n",
       "<table border=\"1\" class=\"dataframe\">\n",
       "  <thead>\n",
       "    <tr style=\"text-align: right;\">\n",
       "      <th></th>\n",
       "      <th>id</th>\n",
       "      <th>popularity</th>\n",
       "      <th>budget</th>\n",
       "      <th>revenue</th>\n",
       "      <th>original_title</th>\n",
       "      <th>profit</th>\n",
       "      <th>cast</th>\n",
       "      <th>homepage</th>\n",
       "      <th>director</th>\n",
       "      <th>tagline</th>\n",
       "      <th>keywords</th>\n",
       "      <th>overview</th>\n",
       "      <th>runtime</th>\n",
       "      <th>genres</th>\n",
       "      <th>production_companies</th>\n",
       "      <th>release_date</th>\n",
       "      <th>vote_count</th>\n",
       "      <th>vote_average</th>\n",
       "      <th>release_year</th>\n",
       "    </tr>\n",
       "  </thead>\n",
       "  <tbody>\n",
       "    <tr>\n",
       "      <th>0</th>\n",
       "      <td>135397</td>\n",
       "      <td>32.985763</td>\n",
       "      <td>150000000</td>\n",
       "      <td>1513528810</td>\n",
       "      <td>Jurassic World</td>\n",
       "      <td>1363528810</td>\n",
       "      <td>Chris Pratt|Bryce Dallas Howard|Irrfan Khan|Vi...</td>\n",
       "      <td>http://www.jurassicworld.com/</td>\n",
       "      <td>Colin Trevorrow</td>\n",
       "      <td>The park is open.</td>\n",
       "      <td>monster|dna|tyrannosaurus rex|velociraptor|island</td>\n",
       "      <td>Twenty-two years after the events of Jurassic ...</td>\n",
       "      <td>124</td>\n",
       "      <td>Action|Adventure|Science Fiction|Thriller</td>\n",
       "      <td>Universal Studios|Amblin Entertainment|Legenda...</td>\n",
       "      <td>2015-06-09</td>\n",
       "      <td>5562</td>\n",
       "      <td>6.5</td>\n",
       "      <td>2015</td>\n",
       "    </tr>\n",
       "    <tr>\n",
       "      <th>1</th>\n",
       "      <td>76341</td>\n",
       "      <td>28.419936</td>\n",
       "      <td>150000000</td>\n",
       "      <td>378436354</td>\n",
       "      <td>Mad Max: Fury Road</td>\n",
       "      <td>228436354</td>\n",
       "      <td>Tom Hardy|Charlize Theron|Hugh Keays-Byrne|Nic...</td>\n",
       "      <td>http://www.madmaxmovie.com/</td>\n",
       "      <td>George Miller</td>\n",
       "      <td>What a Lovely Day.</td>\n",
       "      <td>future|chase|post-apocalyptic|dystopia|australia</td>\n",
       "      <td>An apocalyptic story set in the furthest reach...</td>\n",
       "      <td>120</td>\n",
       "      <td>Action|Adventure|Science Fiction|Thriller</td>\n",
       "      <td>Village Roadshow Pictures|Kennedy Miller Produ...</td>\n",
       "      <td>2015-05-13</td>\n",
       "      <td>6185</td>\n",
       "      <td>7.1</td>\n",
       "      <td>2015</td>\n",
       "    </tr>\n",
       "    <tr>\n",
       "      <th>2</th>\n",
       "      <td>262500</td>\n",
       "      <td>13.112507</td>\n",
       "      <td>110000000</td>\n",
       "      <td>295238201</td>\n",
       "      <td>Insurgent</td>\n",
       "      <td>185238201</td>\n",
       "      <td>Shailene Woodley|Theo James|Kate Winslet|Ansel...</td>\n",
       "      <td>http://www.thedivergentseries.movie/#insurgent</td>\n",
       "      <td>Robert Schwentke</td>\n",
       "      <td>One Choice Can Destroy You</td>\n",
       "      <td>based on novel|revolution|dystopia|sequel|dyst...</td>\n",
       "      <td>Beatrice Prior must confront her inner demons ...</td>\n",
       "      <td>119</td>\n",
       "      <td>Adventure|Science Fiction|Thriller</td>\n",
       "      <td>Summit Entertainment|Mandeville Films|Red Wago...</td>\n",
       "      <td>2015-03-18</td>\n",
       "      <td>2480</td>\n",
       "      <td>6.3</td>\n",
       "      <td>2015</td>\n",
       "    </tr>\n",
       "    <tr>\n",
       "      <th>3</th>\n",
       "      <td>140607</td>\n",
       "      <td>11.173104</td>\n",
       "      <td>200000000</td>\n",
       "      <td>2068178225</td>\n",
       "      <td>Star Wars: The Force Awakens</td>\n",
       "      <td>1868178225</td>\n",
       "      <td>Harrison Ford|Mark Hamill|Carrie Fisher|Adam D...</td>\n",
       "      <td>http://www.starwars.com/films/star-wars-episod...</td>\n",
       "      <td>J.J. Abrams</td>\n",
       "      <td>Every generation has a story.</td>\n",
       "      <td>android|spaceship|jedi|space opera|3d</td>\n",
       "      <td>Thirty years after defeating the Galactic Empi...</td>\n",
       "      <td>136</td>\n",
       "      <td>Action|Adventure|Science Fiction|Fantasy</td>\n",
       "      <td>Lucasfilm|Truenorth Productions|Bad Robot</td>\n",
       "      <td>2015-12-15</td>\n",
       "      <td>5292</td>\n",
       "      <td>7.5</td>\n",
       "      <td>2015</td>\n",
       "    </tr>\n",
       "    <tr>\n",
       "      <th>4</th>\n",
       "      <td>168259</td>\n",
       "      <td>9.335014</td>\n",
       "      <td>190000000</td>\n",
       "      <td>1506249360</td>\n",
       "      <td>Furious 7</td>\n",
       "      <td>1316249360</td>\n",
       "      <td>Vin Diesel|Paul Walker|Jason Statham|Michelle ...</td>\n",
       "      <td>http://www.furious7.com/</td>\n",
       "      <td>James Wan</td>\n",
       "      <td>Vengeance Hits Home</td>\n",
       "      <td>car race|speed|revenge|suspense|car</td>\n",
       "      <td>Deckard Shaw seeks revenge against Dominic Tor...</td>\n",
       "      <td>137</td>\n",
       "      <td>Action|Crime|Thriller</td>\n",
       "      <td>Universal Pictures|Original Film|Media Rights ...</td>\n",
       "      <td>2015-04-01</td>\n",
       "      <td>2947</td>\n",
       "      <td>7.3</td>\n",
       "      <td>2015</td>\n",
       "    </tr>\n",
       "  </tbody>\n",
       "</table>\n",
       "</div>"
      ],
      "text/plain": [
       "       id  popularity     budget     revenue                original_title  \\\n",
       "0  135397   32.985763  150000000  1513528810                Jurassic World   \n",
       "1   76341   28.419936  150000000   378436354            Mad Max: Fury Road   \n",
       "2  262500   13.112507  110000000   295238201                     Insurgent   \n",
       "3  140607   11.173104  200000000  2068178225  Star Wars: The Force Awakens   \n",
       "4  168259    9.335014  190000000  1506249360                     Furious 7   \n",
       "\n",
       "       profit                                               cast  \\\n",
       "0  1363528810  Chris Pratt|Bryce Dallas Howard|Irrfan Khan|Vi...   \n",
       "1   228436354  Tom Hardy|Charlize Theron|Hugh Keays-Byrne|Nic...   \n",
       "2   185238201  Shailene Woodley|Theo James|Kate Winslet|Ansel...   \n",
       "3  1868178225  Harrison Ford|Mark Hamill|Carrie Fisher|Adam D...   \n",
       "4  1316249360  Vin Diesel|Paul Walker|Jason Statham|Michelle ...   \n",
       "\n",
       "                                            homepage          director  \\\n",
       "0                      http://www.jurassicworld.com/   Colin Trevorrow   \n",
       "1                        http://www.madmaxmovie.com/     George Miller   \n",
       "2     http://www.thedivergentseries.movie/#insurgent  Robert Schwentke   \n",
       "3  http://www.starwars.com/films/star-wars-episod...       J.J. Abrams   \n",
       "4                           http://www.furious7.com/         James Wan   \n",
       "\n",
       "                         tagline  \\\n",
       "0              The park is open.   \n",
       "1             What a Lovely Day.   \n",
       "2     One Choice Can Destroy You   \n",
       "3  Every generation has a story.   \n",
       "4            Vengeance Hits Home   \n",
       "\n",
       "                                            keywords  \\\n",
       "0  monster|dna|tyrannosaurus rex|velociraptor|island   \n",
       "1   future|chase|post-apocalyptic|dystopia|australia   \n",
       "2  based on novel|revolution|dystopia|sequel|dyst...   \n",
       "3              android|spaceship|jedi|space opera|3d   \n",
       "4                car race|speed|revenge|suspense|car   \n",
       "\n",
       "                                            overview  runtime  \\\n",
       "0  Twenty-two years after the events of Jurassic ...      124   \n",
       "1  An apocalyptic story set in the furthest reach...      120   \n",
       "2  Beatrice Prior must confront her inner demons ...      119   \n",
       "3  Thirty years after defeating the Galactic Empi...      136   \n",
       "4  Deckard Shaw seeks revenge against Dominic Tor...      137   \n",
       "\n",
       "                                      genres  \\\n",
       "0  Action|Adventure|Science Fiction|Thriller   \n",
       "1  Action|Adventure|Science Fiction|Thriller   \n",
       "2         Adventure|Science Fiction|Thriller   \n",
       "3   Action|Adventure|Science Fiction|Fantasy   \n",
       "4                      Action|Crime|Thriller   \n",
       "\n",
       "                                production_companies release_date  vote_count  \\\n",
       "0  Universal Studios|Amblin Entertainment|Legenda...   2015-06-09        5562   \n",
       "1  Village Roadshow Pictures|Kennedy Miller Produ...   2015-05-13        6185   \n",
       "2  Summit Entertainment|Mandeville Films|Red Wago...   2015-03-18        2480   \n",
       "3          Lucasfilm|Truenorth Productions|Bad Robot   2015-12-15        5292   \n",
       "4  Universal Pictures|Original Film|Media Rights ...   2015-04-01        2947   \n",
       "\n",
       "   vote_average  release_year  \n",
       "0           6.5          2015  \n",
       "1           7.1          2015  \n",
       "2           6.3          2015  \n",
       "3           7.5          2015  \n",
       "4           7.3          2015  "
      ]
     },
     "execution_count": 59,
     "metadata": {},
     "output_type": "execute_result"
    }
   ],
   "source": [
    "# compute profit as revenue minus budegt\n",
    "profit = df['revenue'] - df['budget']\n",
    "# insert profit column as the third column in Df (insert function acts on zero indexing of columns)\n",
    "df.insert(5,'profit',profit)\n",
    "\n",
    "#display 5 rows of the dataset\n",
    "df.head(5)"
   ]
  },
  {
   "cell_type": "markdown",
   "metadata": {},
   "source": [
    "#### Descriptive statistics about DF"
   ]
  },
  {
   "cell_type": "code",
   "execution_count": 60,
   "metadata": {},
   "outputs": [
    {
     "data": {
      "text/html": [
       "<div>\n",
       "<style scoped>\n",
       "    .dataframe tbody tr th:only-of-type {\n",
       "        vertical-align: middle;\n",
       "    }\n",
       "\n",
       "    .dataframe tbody tr th {\n",
       "        vertical-align: top;\n",
       "    }\n",
       "\n",
       "    .dataframe thead th {\n",
       "        text-align: right;\n",
       "    }\n",
       "</style>\n",
       "<table border=\"1\" class=\"dataframe\">\n",
       "  <thead>\n",
       "    <tr style=\"text-align: right;\">\n",
       "      <th></th>\n",
       "      <th>id</th>\n",
       "      <th>popularity</th>\n",
       "      <th>budget</th>\n",
       "      <th>revenue</th>\n",
       "      <th>profit</th>\n",
       "      <th>runtime</th>\n",
       "      <th>vote_count</th>\n",
       "      <th>vote_average</th>\n",
       "      <th>release_year</th>\n",
       "    </tr>\n",
       "  </thead>\n",
       "  <tbody>\n",
       "    <tr>\n",
       "      <th>count</th>\n",
       "      <td>3854.000000</td>\n",
       "      <td>3854.000000</td>\n",
       "      <td>3.854000e+03</td>\n",
       "      <td>3.854000e+03</td>\n",
       "      <td>3.854000e+03</td>\n",
       "      <td>3854.000000</td>\n",
       "      <td>3854.000000</td>\n",
       "      <td>3854.000000</td>\n",
       "      <td>3854.000000</td>\n",
       "    </tr>\n",
       "    <tr>\n",
       "      <th>mean</th>\n",
       "      <td>39888.185262</td>\n",
       "      <td>1.191554</td>\n",
       "      <td>3.720370e+07</td>\n",
       "      <td>1.076866e+08</td>\n",
       "      <td>7.048292e+07</td>\n",
       "      <td>109.220291</td>\n",
       "      <td>527.720291</td>\n",
       "      <td>6.168163</td>\n",
       "      <td>2001.261028</td>\n",
       "    </tr>\n",
       "    <tr>\n",
       "      <th>std</th>\n",
       "      <td>67222.527399</td>\n",
       "      <td>1.475162</td>\n",
       "      <td>4.220822e+07</td>\n",
       "      <td>1.765393e+08</td>\n",
       "      <td>1.506195e+08</td>\n",
       "      <td>19.922820</td>\n",
       "      <td>879.956821</td>\n",
       "      <td>0.794920</td>\n",
       "      <td>11.282575</td>\n",
       "    </tr>\n",
       "    <tr>\n",
       "      <th>min</th>\n",
       "      <td>5.000000</td>\n",
       "      <td>0.001117</td>\n",
       "      <td>1.000000e+00</td>\n",
       "      <td>2.000000e+00</td>\n",
       "      <td>-4.139124e+08</td>\n",
       "      <td>15.000000</td>\n",
       "      <td>10.000000</td>\n",
       "      <td>2.200000</td>\n",
       "      <td>1960.000000</td>\n",
       "    </tr>\n",
       "    <tr>\n",
       "      <th>25%</th>\n",
       "      <td>6073.500000</td>\n",
       "      <td>0.462367</td>\n",
       "      <td>1.000000e+07</td>\n",
       "      <td>1.360003e+07</td>\n",
       "      <td>-1.321535e+06</td>\n",
       "      <td>95.000000</td>\n",
       "      <td>71.000000</td>\n",
       "      <td>5.700000</td>\n",
       "      <td>1995.000000</td>\n",
       "    </tr>\n",
       "    <tr>\n",
       "      <th>50%</th>\n",
       "      <td>11321.500000</td>\n",
       "      <td>0.797511</td>\n",
       "      <td>2.400000e+07</td>\n",
       "      <td>4.480000e+07</td>\n",
       "      <td>2.002019e+07</td>\n",
       "      <td>106.000000</td>\n",
       "      <td>204.000000</td>\n",
       "      <td>6.200000</td>\n",
       "      <td>2004.000000</td>\n",
       "    </tr>\n",
       "    <tr>\n",
       "      <th>75%</th>\n",
       "      <td>38573.250000</td>\n",
       "      <td>1.368324</td>\n",
       "      <td>5.000000e+07</td>\n",
       "      <td>1.242125e+08</td>\n",
       "      <td>8.170331e+07</td>\n",
       "      <td>119.000000</td>\n",
       "      <td>580.000000</td>\n",
       "      <td>6.700000</td>\n",
       "      <td>2010.000000</td>\n",
       "    </tr>\n",
       "    <tr>\n",
       "      <th>max</th>\n",
       "      <td>417859.000000</td>\n",
       "      <td>32.985763</td>\n",
       "      <td>4.250000e+08</td>\n",
       "      <td>2.781506e+09</td>\n",
       "      <td>2.544506e+09</td>\n",
       "      <td>338.000000</td>\n",
       "      <td>9767.000000</td>\n",
       "      <td>8.400000</td>\n",
       "      <td>2015.000000</td>\n",
       "    </tr>\n",
       "  </tbody>\n",
       "</table>\n",
       "</div>"
      ],
      "text/plain": [
       "                  id   popularity        budget       revenue        profit  \\\n",
       "count    3854.000000  3854.000000  3.854000e+03  3.854000e+03  3.854000e+03   \n",
       "mean    39888.185262     1.191554  3.720370e+07  1.076866e+08  7.048292e+07   \n",
       "std     67222.527399     1.475162  4.220822e+07  1.765393e+08  1.506195e+08   \n",
       "min         5.000000     0.001117  1.000000e+00  2.000000e+00 -4.139124e+08   \n",
       "25%      6073.500000     0.462367  1.000000e+07  1.360003e+07 -1.321535e+06   \n",
       "50%     11321.500000     0.797511  2.400000e+07  4.480000e+07  2.002019e+07   \n",
       "75%     38573.250000     1.368324  5.000000e+07  1.242125e+08  8.170331e+07   \n",
       "max    417859.000000    32.985763  4.250000e+08  2.781506e+09  2.544506e+09   \n",
       "\n",
       "           runtime   vote_count  vote_average  release_year  \n",
       "count  3854.000000  3854.000000   3854.000000   3854.000000  \n",
       "mean    109.220291   527.720291      6.168163   2001.261028  \n",
       "std      19.922820   879.956821      0.794920     11.282575  \n",
       "min      15.000000    10.000000      2.200000   1960.000000  \n",
       "25%      95.000000    71.000000      5.700000   1995.000000  \n",
       "50%     106.000000   204.000000      6.200000   2004.000000  \n",
       "75%     119.000000   580.000000      6.700000   2010.000000  \n",
       "max     338.000000  9767.000000      8.400000   2015.000000  "
      ]
     },
     "execution_count": 60,
     "metadata": {},
     "output_type": "execute_result"
    }
   ],
   "source": [
    "#descriptive statistics\n",
    "df.describe()"
   ]
  },
  {
   "cell_type": "markdown",
   "metadata": {},
   "source": [
    "From the above result, we get some important insights: \n",
    ">1- minimum runtime = 15, average = 109, and maximum = 338\n",
    ">\n",
    ">2- minimum vote_average = 2.2, average = 6.2, and maximum = 8.4\n",
    ">\n",
    ">3- for profit, Maximum profit exceeds 2 billion dollar and average is about 70 million dollar , there exist a movies that losses money"
   ]
  },
  {
   "cell_type": "markdown",
   "metadata": {},
   "source": [
    "Conduct distribution about runtime of the movies for more details"
   ]
  },
  {
   "cell_type": "markdown",
   "metadata": {},
   "source": [
    "### Research Question 1: Information about the runtime of the movies \n",
    "univerate analysis (runtime) as 1D variable"
   ]
  },
  {
   "cell_type": "code",
   "execution_count": 61,
   "metadata": {},
   "outputs": [
    {
     "data": {
      "image/png": "[encoded data removed]",
      "text/plain": [
       "<Figure size 432x288 with 1 Axes>"
      ]
     },
     "metadata": {
      "needs_background": "light"
     },
     "output_type": "display_data"
    }
   ],
   "source": [
    "# Use Kdeplot for displying the distribution of runtime column \n",
    "sn.kdeplot(df.runtime, color='blue', shade='True');\n",
    "#x-axis \n",
    "plt.xlabel('Runtime', fontsize = 13)\n",
    "#y-axis \n",
    "plt.ylabel('Density', fontsize=13)\n",
    "#title of the graph\n",
    "plt.title('Movie Runtime Distribution', fontsize=13)\n",
    "\n",
    "# show plot\n",
    "plt.show()"
   ]
  },
  {
   "cell_type": "markdown",
   "metadata": {},
   "source": [
    "From the above KDEplot : The minimum runtime value is 15, Average runtime is about '109', Maximum runtime is '338'.  The plot is righ skew. Most movies exceeds the average runtime."
   ]
  },
  {
   "cell_type": "markdown",
   "metadata": {},
   "source": [
    "### Research Question 2: Information about the populairty and vote average of the movies \n",
    "it is an example of single-variable (1d) explorations (populairty variable as alone . vote_average as alone variable) and draw colcusion from them"
   ]
  },
  {
   "cell_type": "code",
   "execution_count": 62,
   "metadata": {},
   "outputs": [
    {
     "data": {
      "image/png": "[encoded data removed]",
      "text/plain": [
       "<Figure size 432x288 with 2 Axes>"
      ]
     },
     "metadata": {
      "needs_background": "light"
     },
     "output_type": "display_data"
    }
   ],
   "source": [
    "# we use violin plot graph for displying the distripuion of a values in column, besides it displays the mean and if there is outlier \n",
    "# Create figure with two variables (popularity and vote_average)\n",
    "fig, (ax1, ax2) = plt.subplots(nrows=1, ncols=2);\n",
    "\n",
    "# Plot violin plot on axes 1\n",
    "ax1.violinplot(df.popularity, showmedians=True)\n",
    "ax1.set_title('Populairy')\n",
    "ax1.set_xticks([1])\n",
    "\n",
    "# Plot violin plot on axes 2\n",
    "ax2.violinplot(df.vote_average, showmedians=True)\n",
    "ax2.set_title('Vote Average')\n",
    "ax2.set_xticks([1])\n",
    "\n",
    "\n",
    "plt.show()"
   ]
  },
  {
   "cell_type": "markdown",
   "metadata": {},
   "source": [
    "From the above graph, we get some important insights from the distribution of populairy and distribution of vote_average.vote_average is right skew .it seems to have no outlier. popularity seems to have outliers (as shown from maximum value of the violin plot) from the distribution. popularity is left skew .the vote_average column in the dataset is more expressive about the movies more than popularity."
   ]
  },
  {
   "cell_type": "markdown",
   "metadata": {},
   "source": [
    "### Research Question 3: Count each genres of movies in the dataset"
   ]
  },
  {
   "cell_type": "code",
   "execution_count": 63,
   "metadata": {},
   "outputs": [
    {
     "data": {
      "image/png": "[encoded data removed]",
      "text/plain": [
       "<Figure size 432x288 with 1 Axes>"
      ]
     },
     "metadata": {
      "needs_background": "light"
     },
     "output_type": "display_data"
    }
   ],
   "source": [
    "# compute count of each type of movie generes are in the datset\n",
    "# create a new dataframe with splitting values in genres colum \n",
    "genres_df = df.assign(genres_=df['genres'].str.split('|')).explode('genres_')\n",
    "# count each type of a value in the new DF column names \"genres_\"\n",
    "genres_df['genres_'].value_counts().plot(kind='bar', color='blue', title='Number of Movies for each genre'\n",
    "                                         , xlabel='Genere Type', ylabel='Num of Movies');"
   ]
  },
  {
   "cell_type": "markdown",
   "metadata": {},
   "source": [
    "From the above graph:Drama and Comedy has the highest genere type. "
   ]
  },
  {
   "cell_type": "markdown",
   "metadata": {},
   "source": [
    "### Research Question 4: Mean profit for each genres "
   ]
  },
  {
   "cell_type": "code",
   "execution_count": 64,
   "metadata": {},
   "outputs": [
    {
     "data": {
      "image/png": "[encoded data removed]",
      "text/plain": [
       "<Figure size 1080x432 with 1 Axes>"
      ]
     },
     "metadata": {
      "needs_background": "light"
     },
     "output_type": "display_data"
    }
   ],
   "source": [
    "# profit for each geners_type (movies'profit may be related one or more genre)\n",
    "gb = genres_df.groupby('genres_')['profit'].mean()\n",
    "\n",
    "gb.plot(kind='barh', color='blue', title='Mean profit for each genre'\n",
    "        , xlabel='Genere Type', ylabel='Profit',figsize=(15,6));"
   ]
  },
  {
   "cell_type": "markdown",
   "metadata": {},
   "source": [
    "From the above, movies of type action, fantasy and adventure achieve the better profit. "
   ]
  },
  {
   "cell_type": "markdown",
   "metadata": {},
   "source": [
    "### Research Question 5: Number of movie releases per year"
   ]
  },
  {
   "cell_type": "code",
   "execution_count": 65,
   "metadata": {},
   "outputs": [
    {
     "data": {
      "image/png": "[encoded data removed]",
      "text/plain": [
       "<Figure size 1440x576 with 1 Axes>"
      ]
     },
     "metadata": {
      "needs_background": "light"
     },
     "output_type": "display_data"
    }
   ],
   "source": [
    "# plot bar graph for counts of a movie for each year. sort_index function is used for sorting labels of years on x-axis\n",
    "df['release_year'].value_counts().sort_index().plot(kind='bar',figsize=(20,8), color = 'blue');\n",
    "plt.xlabel('Rlease Year', fontsize=15)\n",
    "plt.ylabel('Number of Movies', fontsize=15)\n",
    "plt.title('Total number of movies for each release year', fontsize=15)\n",
    "#displays the plot\n",
    "plt.show()"
   ]
  },
  {
   "cell_type": "markdown",
   "metadata": {},
   "source": [
    "From the above bar graph: year '2012' is the year of most movie release with '200' movie. release year of the movies starts from 1960 to 2015. "
   ]
  },
  {
   "cell_type": "markdown",
   "metadata": {},
   "source": [
    "### Research Question 6: Mean profit for  each release year"
   ]
  },
  {
   "cell_type": "code",
   "execution_count": 66,
   "metadata": {},
   "outputs": [
    {
     "data": {
      "image/png": "[encoded data removed]",
      "text/plain": [
       "<Figure size 2160x720 with 1 Axes>"
      ]
     },
     "metadata": {
      "needs_background": "light"
     },
     "output_type": "display_data"
    }
   ],
   "source": [
    "# define function for plotting a kind of graph takes two vectores - decide operation(mean or sum)\n",
    "def plot(graph, xvec, yvec, xlabel, ylabel, title, op):\n",
    "    if op == 0: # compute sum\n",
    "        gb = df.groupby(xvec)[yvec].sum()\n",
    "    elif op == 1: # compute mean\n",
    "        gb = df.groupby(xvec)[yvec].mean()\n",
    "        \n",
    "    #start plotting the graph \n",
    "    ax = gb.sort_index().plot(kind=graph,figsize=(30,10), color=\"blue\", fontsize=22);\n",
    "    # title \n",
    "    ax.set_title(title,fontsize=22)\n",
    "    #xlabel\n",
    "    ax.set_xlabel(xlabel , fontsize=22);\n",
    "    #ylabel\n",
    "    ax.set_ylabel(ylabel, fontsize=22);\n",
    "    # display the plot\n",
    "    plt.show()\n",
    "#Display mean profit grouped by release year \n",
    "plot('bar', 'release_year', 'profit', 'Release Year',' Mean Profit', 'Mean profit for Year' , 1)\n"
   ]
  },
  {
   "cell_type": "markdown",
   "metadata": {},
   "source": [
    "From the above bar graph: year '2015' has the largest mean profit with nearly '120 million dolar'. Mean profit ranges from 20 million dollar to 120 million dolar. "
   ]
  },
  {
   "cell_type": "markdown",
   "metadata": {},
   "source": [
    "### Research Question 7:Total profit for  each release year"
   ]
  },
  {
   "cell_type": "code",
   "execution_count": 67,
   "metadata": {},
   "outputs": [
    {
     "data": {
      "image/png": "[encoded data removed]",
      "text/plain": [
       "<Figure size 2160x720 with 1 Axes>"
      ]
     },
     "metadata": {
      "needs_background": "light"
     },
     "output_type": "display_data"
    }
   ],
   "source": [
    "#Display total profit grouped by release year \n",
    "\n",
    "# call function for plotting\n",
    "plot('bar', 'release_year', 'profit', 'Release Year',' Total Profit', 'Total profit for Year' , 0)"
   ]
  },
  {
   "cell_type": "markdown",
   "metadata": {},
   "source": [
    "From the above bar graph: year '2015' has the maximum total profit (income from the movies) with nearly '200 million dolar'. "
   ]
  },
  {
   "cell_type": "markdown",
   "metadata": {},
   "source": [
    "### Research Question 8: Relationship between revenue and profit"
   ]
  },
  {
   "cell_type": "code",
   "execution_count": 68,
   "metadata": {},
   "outputs": [
    {
     "data": {
      "image/png": "[encoded data removed]",
      "text/plain": [
       "<Figure size 432x288 with 1 Axes>"
      ]
     },
     "metadata": {
      "needs_background": "light"
     },
     "output_type": "display_data"
    }
   ],
   "source": [
    "df.plot(x= 'revenue', y= 'profit' , kind='scatter', color = 'blue');"
   ]
  },
  {
   "cell_type": "markdown",
   "metadata": {},
   "source": [
    "From the above bar graph: there is a strong positive relationship between revenue and profit. if the revenue of a movie increases the profit increases. "
   ]
  },
  {
   "cell_type": "markdown",
   "metadata": {},
   "source": [
    "### Research Question 9: Relationship between popularity and vote_count"
   ]
  },
  {
   "cell_type": "code",
   "execution_count": 99,
   "metadata": {},
   "outputs": [
    {
     "data": {
      "image/png": "[encoded data removed]",
      "text/plain": [
       "<Figure size 432x288 with 1 Axes>"
      ]
     },
     "metadata": {
      "needs_background": "light"
     },
     "output_type": "display_data"
    }
   ],
   "source": [
    "df.plot(x= 'popularity', y= 'vote_count' , kind='scatter', color = 'blue');"
   ]
  },
  {
   "cell_type": "markdown",
   "metadata": {},
   "source": [
    "From the above bar graph: there is a positive relationship between populairty and vote_count. "
   ]
  },
  {
   "cell_type": "markdown",
   "metadata": {},
   "source": [
    "### Research Question 10: Correlation between budget, revenue, and profit"
   ]
  },
  {
   "cell_type": "code",
   "execution_count": 98,
   "metadata": {},
   "outputs": [
    {
     "data": {
      "image/png": "[encoded data removed]",
      "text/plain": [
       "<Figure size 432x288 with 2 Axes>"
      ]
     },
     "metadata": {
      "needs_background": "light"
     },
     "output_type": "display_data"
    }
   ],
   "source": [
    "# construct df_ from three columns of the DF (budget, revenue, and profit)\n",
    "df_ = df[['budget','revenue', 'profit']]\n",
    "# compute correlation using pearson correlation cofficient\n",
    "corr_mat=df_.corr(method='pearson')\n",
    "\n",
    "#draw the heatmap\n",
    "sn.heatmap(corr_mat, cmap='viridis' , annot = True)\n",
    "#set title\n",
    "plt.title(\"Correlation matrix for Budget - Revenue - Profit\")\n",
    "# show plot\n",
    "plt.show()"
   ]
  },
  {
   "cell_type": "markdown",
   "metadata": {},
   "source": [
    "From the above Heatmap: There is a positive correlation between three variables: budget, revenue, and profit. correlation is computed for each two variable: There is strong positive correlation between budget and revenue. besides there is a string positive correlation between revenue and profit (0.98). in addition there is a positive correlation between budget and revenue. "
   ]
  },
  {
   "cell_type": "markdown",
   "metadata": {},
   "source": [
    "<a id='conclusions'></a>\n",
    "## Conclusions\n",
    "\n",
    "This dataset is very rich in information. Some limitations the dataset contains are null and zero values in some features. These zero and null values hinders the analysis and have to be removed the rows that correspond to these zero and null values. Fore example null values is an obstacle which stopped me when I was analyzing the top casted actors. Furthermore zero values creates false results during the correlation plots and computing the pearson correlation. Hence data cleaning is a necessary part before moving on to the dataset's investigation. There are many famous actors like Robert De Niro who casted in many films all over these years. There are 20 unique movie genres but drama is the one that show an increasing trend all over these years. Finally there is a positive correlation between some of the features of the TMDb dataset.\n",
    "\n",
    "After the Exploratort Data Analysis we can conclude that:\n",
    ">1- minimum runtime = 15, average runtime = 109, and maximum runtime= 338\n",
    ">\n",
    ">2- minimum vote_average = 2.2, average vote_average = 6.2, and maximum vote_average = 8.4\n",
    ">\n",
    ">3- for profit, Maximum profit exceeds 2 billion dollar and average is about 70 million dollar\n",
    ">\n",
    ">4- most movie runtime exceeds 109 \n",
    ">\n",
    ">5- vote_average is more expressive than popularity (popularity contains outliers)\n",
    ">\n",
    ">6- Drama and Comedy genere movies are the most remarkable type.\n",
    ">\n",
    ">7- movies of type action, fantasy and adventure achieve the better profit.\n",
    ">\n",
    ">8- The maximum release year for a movie 2012, with about 200 movie.\n",
    ">\n",
    ">9- The profit from movies in 2015 is the maximum profit with larger than 200 million dollar.\n",
    ">\n",
    ">10- Ther is a strong positive relation between revenue and profit.\n",
    ">\n",
    ">11- There is a positive correlation between popularity and vote_count\n",
    ">\n",
    ">12- there is a strong correlation between budget, revenue, and profit. (revenue and profit has the tight string positive correlation)\n",
    "\n",
    "Some limitations are exist in this dataset which are:\n",
    ">1- Not Null values, Noisy data, Incorrect datatypes. This all are processed in Data Cleaning phase  \n",
    ">\n",
    ">2- Certain columns, like ‘cast’ and ‘genres’, contain multiple values separated by pipe (|) characters. This can be processed using text processing for tokenizing the values with  pipe (|) chaaracter. After that we can extract alot of useful information like the best type genres of movies that obtains maximum profit. besides, the best caset through cast cloumn.  "
   ]
  },
  {
   "cell_type": "code",
   "execution_count": null,
   "metadata": {},
   "outputs": [],
   "source": []
  }
 ],
 "metadata": {
  "kernelspec": {
   "display_name": "Python 3 (ipykernel)",
   "language": "python",
   "name": "python3"
  },
  "language_info": {
   "codemirror_mode": {
    "name": "ipython",
    "version": 3
   },
   "file_extension": ".py",
   "mimetype": "text/x-python",
   "name": "python",
   "nbconvert_exporter": "python",
   "pygments_lexer": "ipython3",
   "version": "3.9.7"
  }
 },
 "nbformat": 4,
 "nbformat_minor": 2
}
